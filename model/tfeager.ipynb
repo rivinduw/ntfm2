{
 "cells": [
  {
   "cell_type": "code",
   "execution_count": 161,
   "metadata": {
    "collapsed": true
   },
   "outputs": [],
   "source": [
    "import tensorflow as tf\n",
    "import numpy as np\n",
    "import pandas as pd\n",
    "\n",
    "tf.enable_eager_execution()"
   ]
  },
  {
   "cell_type": "code",
   "execution_count": 187,
   "metadata": {},
   "outputs": [
    {
     "data": {
      "text/plain": [
       "True"
      ]
     },
     "execution_count": 187,
     "metadata": {},
     "output_type": "execute_result"
    }
   ],
   "source": [
    "tf.executing_eagerly() "
   ]
  },
  {
   "cell_type": "code",
   "execution_count": 188,
   "metadata": {
    "collapsed": true
   },
   "outputs": [],
   "source": [
    "filenames = [\"../data/SH1N30s2.csv\"]\n",
    "numCols = 90\n",
    "record_defaults = [[0.0]] * numCols\n"
   ]
  },
  {
   "cell_type": "code",
   "execution_count": 189,
   "metadata": {},
   "outputs": [],
   "source": [
    "# dataset = tf.contrib.data.make_csv_dataset(filenames,batch_size=32*120, header=True)\n",
    "dataset = tf.contrib.data.CsvDataset(filenames, record_defaults, header=True, select_cols=list(range(1, 91)))"
   ]
  },
  {
   "cell_type": "code",
   "execution_count": 191,
   "metadata": {},
   "outputs": [
    {
     "data": {
      "text/plain": [
       "<MapDataset shapes: (90,), types: tf.float32>"
      ]
     },
     "execution_count": 191,
     "metadata": {},
     "output_type": "execute_result"
    }
   ],
   "source": [
    "dataset = dataset.map(lambda *x: tf.convert_to_tensor(x))\n",
    "\n",
    "dataset"
   ]
  },
  {
   "cell_type": "code",
   "execution_count": 192,
   "metadata": {},
   "outputs": [],
   "source": [
    "# dataset.map(lambda x: tf.transpose(x, perm=[1, 0]))\n",
    "\n",
    "\n",
    "dataset = dataset.apply(tf.contrib.data.sliding_window_batch(window_size=120, window_shift=10))\n",
    "# tf.reshape(dataset, [90, -1])\n",
    "# dataset = tf.reshape(dataset, [-1, 90*2])\n",
    "\n",
    "# dataset = dataset.batch(32)"
   ]
  },
  {
   "cell_type": "code",
   "execution_count": 193,
   "metadata": {},
   "outputs": [],
   "source": [
    "dataset = (dataset\n",
    "    .shuffle(buffer_size=1)\n",
    "    .batch(32)\n",
    "    .prefetch(1)  # make sure you always have one batch ready to serve\n",
    ")\n"
   ]
  },
  {
   "cell_type": "code",
   "execution_count": 194,
   "metadata": {},
   "outputs": [
    {
     "data": {
      "text/plain": [
       "<PrefetchDataset shapes: (?, ?, 90), types: tf.float32>"
      ]
     },
     "execution_count": 194,
     "metadata": {},
     "output_type": "execute_result"
    }
   ],
   "source": [
    "dataset"
   ]
  },
  {
   "cell_type": "code",
   "execution_count": 195,
   "metadata": {},
   "outputs": [],
   "source": [
    "\n",
    "import tensorflow.contrib.eager as tfe\n",
    "\n",
    "\n",
    "# iterator = dataset.make_initializable_iterator()\n"
   ]
  },
  {
   "cell_type": "code",
   "execution_count": 198,
   "metadata": {},
   "outputs": [
    {
     "name": "stdout",
     "output_type": "stream",
     "text": [
      "tf.Tensor(\n",
      "[[[  1.      0.      0.    ...,   1.      3.      1.   ]\n",
      "  [  1.      0.      1.    ...,   0.5     1.      0.5  ]\n",
      "  [  0.      0.      1.    ...,   1.5     2.      1.5  ]\n",
      "  ..., \n",
      "  [  2.      0.125   2.    ...,  15.25    5.     15.25 ]\n",
      "  [  0.      0.      0.    ...,   0.5     1.      0.5  ]\n",
      "  [  2.      0.5     1.    ...,   1.      2.      1.   ]]\n",
      "\n",
      " [[  2.      0.25    3.    ...,   0.      0.      0.   ]\n",
      "  [  0.      0.      0.    ...,   0.      0.      0.   ]\n",
      "  [  0.      0.      0.    ...,   0.      0.      0.   ]\n",
      "  ..., \n",
      "  [  0.      0.      2.    ...,   1.5     1.      1.5  ]\n",
      "  [  1.      0.      1.    ...,   0.      1.      0.   ]\n",
      "  [  2.      0.75    0.    ...,   0.5     1.      0.5  ]]\n",
      "\n",
      " [[  2.      0.25    1.    ...,   0.5     2.      0.5  ]\n",
      "  [  1.      0.      1.    ...,   0.5     1.      0.5  ]\n",
      "  [  2.      1.      2.    ...,   0.      0.      0.   ]\n",
      "  ..., \n",
      "  [  0.      0.      0.    ...,   0.      0.      0.   ]\n",
      "  [  4.      0.75    5.    ...,   0.      0.      0.   ]\n",
      "  [  0.      0.      1.    ...,   0.5     1.      0.5  ]]\n",
      "\n",
      " ..., \n",
      " [[  0.      0.      0.    ...,   0.      0.      0.   ]\n",
      "  [  0.      0.      0.    ...,   0.      0.      0.   ]\n",
      "  [  0.      0.      0.    ...,   0.      0.      0.   ]\n",
      "  ..., \n",
      "  [  1.      0.      5.    ...,   0.      0.      0.   ]\n",
      "  [  0.      0.      0.    ...,   0.      0.      0.   ]\n",
      "  [  0.      0.      0.    ...,   0.      0.      0.   ]]\n",
      "\n",
      " [[  0.      0.      0.    ...,   0.      0.      0.   ]\n",
      "  [  2.      0.5     2.    ...,   0.      0.      0.   ]\n",
      "  [  1.      0.      0.    ...,   0.      0.      0.   ]\n",
      "  ..., \n",
      "  [  2.      0.5     2.    ...,   0.      0.      0.   ]\n",
      "  [  2.      0.      2.    ...,   0.      0.      0.   ]\n",
      "  [  3.      0.25    3.    ...,   0.      0.      0.   ]]\n",
      "\n",
      " [[  2.      1.      2.    ...,  11.5     1.     11.5  ]\n",
      "  [  1.      0.      1.    ...,   0.      0.      0.   ]\n",
      "  [  0.      0.      0.    ...,   0.      0.      0.   ]\n",
      "  ..., \n",
      "  [  4.      0.5     2.    ...,   0.      0.      0.   ]\n",
      "  [  0.      0.      2.    ...,   0.      0.      0.   ]\n",
      "  [  1.      0.25    1.    ...,   0.      0.      0.   ]]], shape=(32, 120, 90), dtype=float32)\n"
     ]
    }
   ],
   "source": [
    "for batch in tfe.Iterator(dataset):\n",
    "    print(batch)\n",
    "    pd.DataFrame(np.array(batch[1,:,:])).to_csv('oneBatch.csv')\n",
    "    break"
   ]
  },
  {
   "cell_type": "code",
   "execution_count": null,
   "metadata": {},
   "outputs": [],
   "source": []
  },
  {
   "cell_type": "code",
   "execution_count": null,
   "metadata": {},
   "outputs": [],
   "source": []
  },
  {
   "cell_type": "code",
   "execution_count": null,
   "metadata": {
    "collapsed": true
   },
   "outputs": [],
   "source": []
  }
 ],
 "metadata": {
  "kernelspec": {
   "display_name": "Python 3",
   "language": "python",
   "name": "python3"
  },
  "language_info": {
   "codemirror_mode": {
    "name": "ipython",
    "version": 3
   },
   "file_extension": ".py",
   "mimetype": "text/x-python",
   "name": "python",
   "nbconvert_exporter": "python",
   "pygments_lexer": "ipython3",
   "version": "3.6.1"
  }
 },
 "nbformat": 4,
 "nbformat_minor": 2
}
